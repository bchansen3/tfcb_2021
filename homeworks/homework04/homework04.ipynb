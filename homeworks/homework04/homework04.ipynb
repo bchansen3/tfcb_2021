{
 "cells": [
  {
   "cell_type": "markdown",
   "metadata": {},
   "source": [
    "# Homework 4: Practical analysis with BioPython"
   ]
  },
  {
   "cell_type": "markdown",
   "metadata": {},
   "source": [
    "For the homework, you are going to extend the code from real biological analysis of our FASTQ files in lectures 8 and 9.\n",
    "\n",
    "As described in the Jupyter notebook for that lecture, the FASTQ reads can originate from **either** HA or NA, and that will be distinguished by the most 3' end of the read.\n",
    "But in our example, we did not distinguish among reads matching to HA and NA, as we didn't even look far enough into the read to tell the identity.\n",
    "\n",
    "For the homework, your goal is to write code that extends the material from lectures 8 and 9 to also distinguish between HA and NA.\n",
    "\n",
    "Please include code to address each of the following questions. Please include code comments to explain what your code is attempting to accomplish. Don't forget to include references to the sources you used to obtain your answer, including your classmates (if you are working in groups).  "
   ]
  },
  {
   "cell_type": "markdown",
   "metadata": {},
   "source": [
    "1. How many reads map to HA, and how many reads map to NA?"
   ]
  },
  {
   "cell_type": "markdown",
   "metadata": {},
   "source": [
    "the HA count is  5409\n",
    "the HA count is  4122"
   ]
  },
  {
   "cell_type": "markdown",
   "metadata": {},
   "source": [
    "Source: Lecture 8 - TFCB2021\n",
    "\n",
    "The end of NA is:   CACGATAGATAAATAATAGTGCACCAT\n",
    "\n",
    "The end of HA is:   CCGGATTTGCATATAATGATGCACCAT\n",
    "\n",
    "From class\n",
    "1. Get the reverse complement of each read.\n",
    "2. Determine if it matches the expected pattern for HA and NA, and if so which one.\n",
    "3. If it matches, extract the barcode and add it to a dictionary to keep track of counts."
   ]
  },
  {
   "cell_type": "code",
   "execution_count": 10,
   "metadata": {},
   "outputs": [],
   "source": [
    "import Bio.SeqIO\n",
    "import re"
   ]
  },
  {
   "cell_type": "markdown",
   "metadata": {},
   "source": [
    "Read in the sequencing reads and convert them to strings"
   ]
  },
  {
   "cell_type": "code",
   "execution_count": null,
   "metadata": {},
   "outputs": [],
   "source": [
    "seqreads = list(Bio.SeqIO.parse('barcodes_R1.fastq', format='fastq'))"
   ]
  },
  {
   "cell_type": "markdown",
   "metadata": {},
   "source": [
    "Find the reverse complement of the string"
   ]
  },
  {
   "cell_type": "code",
   "execution_count": 37,
   "metadata": {},
   "outputs": [
    {
     "data": {
      "text/plain": [
       "27"
      ]
     },
     "execution_count": 37,
     "metadata": {},
     "output_type": "execute_result"
    }
   ],
   "source": [
    "def reverse_complement(seq):\n",
    "\n",
    "    \"\"\"Get reverse complement of a DNA sequence.\n",
    "    \n",
    "    Parameters\n",
    "    -----------\n",
    "    seq : str\n",
    "        Uppercase DNA sequence.\n",
    "        \n",
    "    Returns\n",
    "    -------\n",
    "    str\n",
    "        Reverse complement of the sequence in upper case.\n",
    "        \n",
    "    Example\n",
    "    --------\n",
    "    >>> reverse_complement('ATGCAC')\n",
    "    'GTGCAT'\n",
    "    \n",
    "    \"\"\"\n",
    "    rc_dict = {'A': 'T', 'T': 'A', 'G': 'C', 'C': 'G', 'N': 'N'}\n",
    "    revcomplement = []\n",
    "    for nt in reversed(seq.upper()):\n",
    "        revcomplement.append(rc_dict[nt])\n",
    "    return ''.join(revcomplement)\n",
    "\n",
    "rcseqreads = [reverse_complement(read) for read in seqreads ]\n",
    "\n",
    "assert rcseqreads[1] == reverse_complement(seqreads[1])\n",
    "\n",
    "a = 'CACGATAGATAAATAATAGTGCACCAT'\n",
    "len(a)"
   ]
  },
  {
   "cell_type": "code",
   "execution_count": 59,
   "metadata": {},
   "outputs": [
    {
     "name": "stdout",
     "output_type": "stream",
     "text": [
      "the HA count is  5409\n",
      "the HA count is  4122\n"
     ]
    }
   ],
   "source": [
    "HAseq = 'CCGGATTTGCATATAATGATGCACCAT'\n",
    "NAseq = 'CACGATAGATAAATAATAGTGCACCAT'\n",
    "HAcount = 0\n",
    "NAcount = 0\n",
    "for seq in rcseqreads:\n",
    "    if HAseq in seq:\n",
    "        HAcount+=1\n",
    "    elif NAseq in seq:\n",
    "        NAcount+=1\n",
    "\n",
    "\n",
    "print('the HA count is ',HAcount)\n",
    "print('the HA count is ',NAcount)"
   ]
  },
  {
   "cell_type": "code",
   "execution_count": 93,
   "metadata": {},
   "outputs": [
    {
     "name": "stdout",
     "output_type": "stream",
     "text": [
      "Parsed 10000 sequences, of which 569 lacked valid barcodes\n"
     ]
    },
    {
     "data": {
      "text/plain": [
       "0"
      ]
     },
     "execution_count": 93,
     "metadata": {},
     "output_type": "execute_result"
    }
   ],
   "source": [
    "\n",
    "\n",
    "def read_barcode(seqread, bclen, upstream='AGGCGGCCGC'):\n",
    "    \"\"\"Identify barcode with known upstream sequence.\n",
    "    \n",
    "    Parameters\n",
    "    ----------\n",
    "    seqread : str\n",
    "        Nucleotide sequence matching UPSTREAM-BARCODE read in reverse orientation.\n",
    "    bclen : int\n",
    "        Length of barcode\n",
    "    upstream: str\n",
    "        Sequence upstream of the barcode.\n",
    "        \n",
    "    Returns\n",
    "    -------\n",
    "    str or None\n",
    "        Sequence of the barcode in the forward orientation, or `None` if no match to expected barcoded sequence.\n",
    "        \n",
    "    Example\n",
    "    -------\n",
    "    >>> read_barcode('TTTTTTTTTTTTTTTTGCGGCCGCCT', bclen=16)\n",
    "    'AAAAAAAAAAAAAAAA'\n",
    "        \n",
    "    \"\"\"\n",
    "    barcode_matcher = re.compile(f'^(?P<barcode>[ACGT]{{{bclen}}})' + reverse_complement(upstream))\n",
    "    m = barcode_matcher.search(seqread)\n",
    "    if not m:\n",
    "        return None\n",
    "    else:\n",
    "        return reverse_complement(seqread[: bclen])\n",
    "    \n",
    "    \n",
    "# now read sequences and apply function\n",
    "seqreads = list(Bio.SeqIO.parse('barcodes_R1.fastq', 'fastq'))\n",
    "seqreads_str = [str(seqrecord.seq) for seqrecord in seqreads]\n",
    "\n",
    "    \n",
    "\n",
    "# Get the counts of all barcodes\n",
    "barcode_counts = {}\n",
    "n_invalid = 0\n",
    "for seq in seqreads_str:\n",
    "    barcode = read_barcode(seq, bclen=16)\n",
    "    if not barcode:\n",
    "        n_invalid += 1\n",
    "    elif barcode not in barcode_counts:\n",
    "        barcode_counts[barcode] = 1\n",
    "    else:\n",
    "        barcode_counts[barcode] += 1\n",
    "        \n",
    "hareads=[]\n",
    "nareads=[]\n",
    "for seq in seqreads_str:\n",
    "    if HAseq in seqreads_str:\n",
    "       hareads.append(seq)\n",
    "    \n",
    "print(f\"Parsed {len(seqreads_str)} sequences, of which {n_invalid} lacked valid barcodes\")\n",
    "\n"
   ]
  },
  {
   "cell_type": "code",
   "execution_count": 111,
   "metadata": {},
   "outputs": [
    {
     "data": {
      "text/html": [
       "<div>\n",
       "<style scoped>\n",
       "    .dataframe tbody tr th:only-of-type {\n",
       "        vertical-align: middle;\n",
       "    }\n",
       "\n",
       "    .dataframe tbody tr th {\n",
       "        vertical-align: top;\n",
       "    }\n",
       "\n",
       "    .dataframe thead th {\n",
       "        text-align: right;\n",
       "    }\n",
       "</style>\n",
       "<table border=\"1\" class=\"dataframe\">\n",
       "  <thead>\n",
       "    <tr style=\"text-align: right;\">\n",
       "      <th></th>\n",
       "      <th>index</th>\n",
       "      <th>0</th>\n",
       "    </tr>\n",
       "  </thead>\n",
       "  <tbody>\n",
       "    <tr>\n",
       "      <th>14</th>\n",
       "      <td>CCCGACCCGACATTAA</td>\n",
       "      <td>157</td>\n",
       "    </tr>\n",
       "    <tr>\n",
       "      <th>30</th>\n",
       "      <td>GATTTCCGATCAGTCT</td>\n",
       "      <td>124</td>\n",
       "    </tr>\n",
       "    <tr>\n",
       "      <th>4</th>\n",
       "      <td>GCTACTACTATACCAT</td>\n",
       "      <td>121</td>\n",
       "    </tr>\n",
       "    <tr>\n",
       "      <th>37</th>\n",
       "      <td>CTCCATCACTCGCCAA</td>\n",
       "      <td>116</td>\n",
       "    </tr>\n",
       "    <tr>\n",
       "      <th>41</th>\n",
       "      <td>AACCGTCACCTCAACC</td>\n",
       "      <td>106</td>\n",
       "    </tr>\n",
       "    <tr>\n",
       "      <th>...</th>\n",
       "      <td>...</td>\n",
       "      <td>...</td>\n",
       "    </tr>\n",
       "    <tr>\n",
       "      <th>203</th>\n",
       "      <td>TGGGCAATAAACGTAG</td>\n",
       "      <td>1</td>\n",
       "    </tr>\n",
       "    <tr>\n",
       "      <th>204</th>\n",
       "      <td>TTATACCTTAGTCTGT</td>\n",
       "      <td>1</td>\n",
       "    </tr>\n",
       "    <tr>\n",
       "      <th>205</th>\n",
       "      <td>TCTTAACAGCATCAGC</td>\n",
       "      <td>1</td>\n",
       "    </tr>\n",
       "    <tr>\n",
       "      <th>206</th>\n",
       "      <td>TTCGACTTCCTAATAC</td>\n",
       "      <td>1</td>\n",
       "    </tr>\n",
       "    <tr>\n",
       "      <th>310</th>\n",
       "      <td>GCTACTACTATACCTT</td>\n",
       "      <td>1</td>\n",
       "    </tr>\n",
       "  </tbody>\n",
       "</table>\n",
       "<p>311 rows × 2 columns</p>\n",
       "</div>"
      ],
      "text/plain": [
       "                index    0\n",
       "14   CCCGACCCGACATTAA  157\n",
       "30   GATTTCCGATCAGTCT  124\n",
       "4    GCTACTACTATACCAT  121\n",
       "37   CTCCATCACTCGCCAA  116\n",
       "41   AACCGTCACCTCAACC  106\n",
       "..                ...  ...\n",
       "203  TGGGCAATAAACGTAG    1\n",
       "204  TTATACCTTAGTCTGT    1\n",
       "205  TCTTAACAGCATCAGC    1\n",
       "206  TTCGACTTCCTAATAC    1\n",
       "310  GCTACTACTATACCTT    1\n",
       "\n",
       "[311 rows x 2 columns]"
      ]
     },
     "execution_count": 111,
     "metadata": {},
     "output_type": "execute_result"
    }
   ],
   "source": [
    "nareads={}\n",
    "hareads={}\n",
    "\n",
    "for seq in rcseqreads:\n",
    "    if HAseq in seq:\n",
    "        if seq[-16:] in hareads:\n",
    "            hareads[seq[-16:]] +=1\n",
    "        else:\n",
    "            hareads[seq[-16:]] =1\n",
    "    elif NAseq in seq:\n",
    "        if seq[-16:] in nareads:\n",
    "            nareads[seq[-16:]]+=1\n",
    "        else:\n",
    "            nareads[seq[-16:]] =1\n",
    "    else:\n",
    "        continue\n",
    "\n",
    "import pandas\n",
    "\n",
    "na_barcode_count = pandas.Series(nareads).reset_index()\n",
    "ha_barcode_count = pandas.Series(hareads).reset_index()\n",
    "\n",
    "ha_barcode_count.sort_values(0, ascending=False)\n",
    "\n"
   ]
  },
  {
   "cell_type": "code",
   "execution_count": 110,
   "metadata": {},
   "outputs": [
    {
     "data": {
      "text/html": [
       "<div>\n",
       "<style scoped>\n",
       "    .dataframe tbody tr th:only-of-type {\n",
       "        vertical-align: middle;\n",
       "    }\n",
       "\n",
       "    .dataframe tbody tr th {\n",
       "        vertical-align: top;\n",
       "    }\n",
       "\n",
       "    .dataframe thead th {\n",
       "        text-align: right;\n",
       "    }\n",
       "</style>\n",
       "<table border=\"1\" class=\"dataframe\">\n",
       "  <thead>\n",
       "    <tr style=\"text-align: right;\">\n",
       "      <th></th>\n",
       "      <th>index</th>\n",
       "      <th>0</th>\n",
       "    </tr>\n",
       "  </thead>\n",
       "  <tbody>\n",
       "    <tr>\n",
       "      <th>25</th>\n",
       "      <td>ACCAGTTCTCCCCGGG</td>\n",
       "      <td>153</td>\n",
       "    </tr>\n",
       "    <tr>\n",
       "      <th>13</th>\n",
       "      <td>TCAAGAAGCCTTGGAG</td>\n",
       "      <td>151</td>\n",
       "    </tr>\n",
       "    <tr>\n",
       "      <th>47</th>\n",
       "      <td>TGACGATCCTCAAGAA</td>\n",
       "      <td>143</td>\n",
       "    </tr>\n",
       "    <tr>\n",
       "      <th>4</th>\n",
       "      <td>CGTCTTCCATCCCCAT</td>\n",
       "      <td>133</td>\n",
       "    </tr>\n",
       "    <tr>\n",
       "      <th>35</th>\n",
       "      <td>TCTGGCAGGCCTCGCT</td>\n",
       "      <td>125</td>\n",
       "    </tr>\n",
       "    <tr>\n",
       "      <th>...</th>\n",
       "      <td>...</td>\n",
       "      <td>...</td>\n",
       "    </tr>\n",
       "    <tr>\n",
       "      <th>84</th>\n",
       "      <td>GAACCCTAGAAGCCCC</td>\n",
       "      <td>1</td>\n",
       "    </tr>\n",
       "    <tr>\n",
       "      <th>83</th>\n",
       "      <td>TGTGCAGCAAAAGTAG</td>\n",
       "      <td>1</td>\n",
       "    </tr>\n",
       "    <tr>\n",
       "      <th>81</th>\n",
       "      <td>CACCAGTTCTCCCGGG</td>\n",
       "      <td>1</td>\n",
       "    </tr>\n",
       "    <tr>\n",
       "      <th>80</th>\n",
       "      <td>CGTCTTCCATCCGCAT</td>\n",
       "      <td>1</td>\n",
       "    </tr>\n",
       "    <tr>\n",
       "      <th>156</th>\n",
       "      <td>GCACATAAGGAGCCAA</td>\n",
       "      <td>1</td>\n",
       "    </tr>\n",
       "  </tbody>\n",
       "</table>\n",
       "<p>157 rows × 2 columns</p>\n",
       "</div>"
      ],
      "text/plain": [
       "                index    0\n",
       "25   ACCAGTTCTCCCCGGG  153\n",
       "13   TCAAGAAGCCTTGGAG  151\n",
       "47   TGACGATCCTCAAGAA  143\n",
       "4    CGTCTTCCATCCCCAT  133\n",
       "35   TCTGGCAGGCCTCGCT  125\n",
       "..                ...  ...\n",
       "84   GAACCCTAGAAGCCCC    1\n",
       "83   TGTGCAGCAAAAGTAG    1\n",
       "81   CACCAGTTCTCCCGGG    1\n",
       "80   CGTCTTCCATCCGCAT    1\n",
       "156  GCACATAAGGAGCCAA    1\n",
       "\n",
       "[157 rows x 2 columns]"
      ]
     },
     "execution_count": 110,
     "metadata": {},
     "output_type": "execute_result"
    }
   ],
   "source": [
    "na_barcode_count.sort_values(0, ascending=False)"
   ]
  },
  {
   "cell_type": "markdown",
   "metadata": {},
   "source": [
    "Use a regular expression to find the HA or NA strings"
   ]
  },
  {
   "cell_type": "markdown",
   "metadata": {},
   "source": [
    "2. What is the HA barcode with the most counts (and how many counts)? Also answer the same question for NA."
   ]
  },
  {
   "cell_type": "markdown",
   "metadata": {},
   "source": [
    "The HA barcode with the most reads is CCCGACCCGACATTAA  with\t157 reads\n",
    "\n",
    "\n",
    "The NA barcode with the most reads is ACCAGTTCTCCCCGGG  with \t153 reads"
   ]
  }
 ],
 "metadata": {
  "interpreter": {
   "hash": "b114192b20994c6d637dba7b8079036d6c9186c0f3a982ca74851b183e147f42"
  },
  "kernelspec": {
   "display_name": "Python 3.9.7 64-bit ('base': conda)",
   "name": "python3"
  },
  "language_info": {
   "codemirror_mode": {
    "name": "ipython",
    "version": 3
   },
   "file_extension": ".py",
   "mimetype": "text/x-python",
   "name": "python",
   "nbconvert_exporter": "python",
   "pygments_lexer": "ipython3",
   "version": "3.9.7"
  },
  "toc": {
   "nav_menu": {},
   "number_sections": false,
   "sideBar": true,
   "skip_h1_title": false,
   "toc_cell": false,
   "toc_position": {
    "height": "623.8px",
    "left": "0px",
    "right": "829.6px",
    "top": "33.2px",
    "width": "322.4px"
   },
   "toc_section_display": "block",
   "toc_window_display": true
  }
 },
 "nbformat": 4,
 "nbformat_minor": 2
}
