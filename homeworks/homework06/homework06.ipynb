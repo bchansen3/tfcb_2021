{
 "cells": [
  {
   "cell_type": "markdown",
   "metadata": {},
   "source": [
    "# Homework 6\n",
    "\n",
    "TFCB 2021\n",
    "\n",
    "Due date: Nov 23, 2021 1PM"
   ]
  },
  {
   "cell_type": "markdown",
   "metadata": {},
   "source": [
    "In this homework, we will work through a series of manipulations to analyze a published deep sequencing\n",
    "dataset using `tidyverse` functions.\n",
    "\n",
    "In the process, we will learn some new functions in `tidyverse` and apply\n",
    "them to our data analysis.\n",
    "\n",
    "For more information about the data used in this homework, see\n",
    "[this page](https://www.ncbi.nlm.nih.gov/geo/query/acc.cgi?acc=GSE89183).\n"
   ]
  },
  {
   "cell_type": "code",
   "execution_count": 3,
   "metadata": {},
   "outputs": [
    {
     "name": "stderr",
     "output_type": "stream",
     "text": [
      "Warning message in system(\"timedatectl\", intern = TRUE):\n",
      "“running command 'timedatectl' had status 1”\n",
      "── \u001b[1mAttaching packages\u001b[22m ─────────────────────────────────────── tidyverse 1.3.1 ──\n",
      "\n",
      "\u001b[32m✔\u001b[39m \u001b[34mggplot2\u001b[39m 3.3.5     \u001b[32m✔\u001b[39m \u001b[34mpurrr  \u001b[39m 0.3.4\n",
      "\u001b[32m✔\u001b[39m \u001b[34mtibble \u001b[39m 3.1.6     \u001b[32m✔\u001b[39m \u001b[34mdplyr  \u001b[39m 1.0.7\n",
      "\u001b[32m✔\u001b[39m \u001b[34mtidyr  \u001b[39m 1.1.4     \u001b[32m✔\u001b[39m \u001b[34mstringr\u001b[39m 1.4.0\n",
      "\u001b[32m✔\u001b[39m \u001b[34mreadr  \u001b[39m 2.1.0     \u001b[32m✔\u001b[39m \u001b[34mforcats\u001b[39m 0.5.1\n",
      "\n",
      "── \u001b[1mConflicts\u001b[22m ────────────────────────────────────────── tidyverse_conflicts() ──\n",
      "\u001b[31m✖\u001b[39m \u001b[34mdplyr\u001b[39m::\u001b[32mfilter()\u001b[39m masks \u001b[34mstats\u001b[39m::filter()\n",
      "\u001b[31m✖\u001b[39m \u001b[34mdplyr\u001b[39m::\u001b[32mlag()\u001b[39m    masks \u001b[34mstats\u001b[39m::lag()\n",
      "\n"
     ]
    }
   ],
   "source": [
    "library(tidyverse)"
   ]
  },
  {
   "cell_type": "markdown",
   "metadata": {},
   "source": [
    "## Problem 1\n",
    "\n",
    "**10 points**\n",
    "\n",
    "For each of the following functions, provide a <100 character description\n",
    "(in your own words) and a URL reference.\n",
    "\n",
    "1. `!` ---   The `!` symbol means \"is not\" [link to source](https://cran.r-project.org/doc/manuals/r-release/R-intro.html#Simple-manipulations-numbers-and-vectors\")\n",
    "\n",
    "2. `is.na` ---  the `is.na` means \"is the value NA\" and returns a boolean [link to source](https://cran.r-project.org/doc/manuals/r-release/R-intro.html#Simple-manipulations-numbers-and-vectors\")\n",
    "3. `is.numeric` --- the `is.numeric` means \"is the value a number\" [link to source](https://www.rdocumentation.org/packages/base/versions/3.6.2/topics/numeric)\n",
    "4. `anti_join` ---  function in tidyverse, means \"return rows where there is not a match in a second table\" used when joining tables [link to source](https://dplyr.tidyverse.org/reference/filter-joins.html)\n",
    "5. `desc` --- tidyverse -- uses a vector and re-arranges to be in descending order [link to source](https://dplyr.tidyverse.org/reference/desc.html)\n",
    "6. `dplyr::slice` --- function in tidyverse, used to select rowns by location in a tibble [link to source](https://dplyr.tidyverse.org/articles/base.html?q=slice#slice-choose-rows-by-position)\n",
    "7. `dplyr::across` --- --tidyverse -- allows you to apply the same transformation to multiple columns [link to source](https://dplyr.tidyverse.org/reference/across.html?q=across)\n"
   ]
  },
  {
   "cell_type": "markdown",
   "metadata": {},
   "source": [
    "## Problem 2\n",
    "\n",
    "**10 points**\n",
    "\n",
    "Add a comment above each code line below explaining what the code line does and/or why\n",
    "that code line is necessary.\n",
    "\n",
    "Keep each comment to less than 2 lines per line of code and < 80 chars per line."
   ]
  },
  {
   "cell_type": "code",
   "execution_count": 4,
   "metadata": {},
   "outputs": [
    {
     "name": "stderr",
     "output_type": "stream",
     "text": [
      "Warning message:\n",
      "“One or more parsing issues, see `problems()` for details”\n",
      "\u001b[1mRows: \u001b[22m\u001b[34m19206\u001b[39m \u001b[1mColumns: \u001b[22m\u001b[34m54\u001b[39m\n",
      "\n",
      "\u001b[36m──\u001b[39m \u001b[1mColumn specification\u001b[22m \u001b[36m────────────────────────────────────────────────────────\u001b[39m\n",
      "\u001b[1mDelimiter:\u001b[22m \"\\t\"\n",
      "\u001b[31mchr\u001b[39m  (38): hgnc_id, symbol, name, locus_group, locus_type, status, location,...\n",
      "\u001b[32mdbl\u001b[39m   (4): entrez_id, omim_id, homeodb, orphanet\n",
      "\u001b[33mlgl\u001b[39m   (8): mirbase, snornabase, imgt, kznf_gene_catalog, mamit-trnadb, lncrn...\n",
      "\u001b[34mdate\u001b[39m  (4): date_approved_reserved, date_symbol_changed, date_name_changed, d...\n",
      "\n",
      "\n",
      "\u001b[36mℹ\u001b[39m Use \u001b[30m\u001b[47m\u001b[30m\u001b[47m`spec()`\u001b[47m\u001b[30m\u001b[49m\u001b[39m to retrieve the full column specification for this data.\n",
      "\u001b[36mℹ\u001b[39m Specify the column types or set \u001b[30m\u001b[47m\u001b[30m\u001b[47m`show_col_types = FALSE`\u001b[47m\u001b[30m\u001b[49m\u001b[39m to quiet this message.\n",
      "\n"
     ]
    },
    {
     "name": "stdout",
     "output_type": "stream",
     "text": [
      "\u001b[90m# A tibble: 18,808 × 5\u001b[39m\n",
      "   ensembl_gene_id symbol  name             gene_group            ccds_id       \n",
      "   \u001b[3m\u001b[90m<chr>\u001b[39m\u001b[23m           \u001b[3m\u001b[90m<chr>\u001b[39m\u001b[23m   \u001b[3m\u001b[90m<chr>\u001b[39m\u001b[23m            \u001b[3m\u001b[90m<chr>\u001b[39m\u001b[23m                 \u001b[3m\u001b[90m<chr>\u001b[39m\u001b[23m         \n",
      "\u001b[90m 1\u001b[39m ENSG00000121410 A1BG    alpha-1-B glyco… Immunoglobulin like … CCDS12976     \n",
      "\u001b[90m 2\u001b[39m ENSG00000148584 A1CF    APOBEC1 complem… RNA binding motif co… CCDS7242|CCDS…\n",
      "\u001b[90m 3\u001b[39m ENSG00000175899 A2M     alpha-2-macrogl… C3 and PZP like, alp… CCDS44827     \n",
      "\u001b[90m 4\u001b[39m ENSG00000166535 A2ML1   alpha-2-macrogl… C3 and PZP like, alp… CCDS73439|CCD…\n",
      "\u001b[90m 5\u001b[39m ENSG00000184389 A3GALT2 alpha 1,3-galac… Glycosyltransferase … CCDS60080     \n",
      "\u001b[90m 6\u001b[39m ENSG00000128274 A4GALT  alpha 1,4-galac… Alpha 1,4-glycosyltr… CCDS14041     \n",
      "\u001b[90m 7\u001b[39m ENSG00000118017 A4GNT   alpha-1,4-N-ace… Alpha 1,4-glycosyltr… CCDS3097      \n",
      "\u001b[90m 8\u001b[39m ENSG00000094914 AAAS    aladin WD repea… WD repeat domain con… CCDS8856|CCDS…\n",
      "\u001b[90m 9\u001b[39m ENSG00000081760 AACS    acetoacetyl-CoA… Acyl-CoA synthetase … CCDS9263      \n",
      "\u001b[90m10\u001b[39m ENSG00000114771 AADAC   arylacetamide d… Lipases|Arylacetamid… CCDS33877     \n",
      "\u001b[90m# … with 18,798 more rows\u001b[39m\n"
     ]
    }
   ],
   "source": [
    "# loads a tab separated sheet\n",
    "annotations <- read_tsv(\"ftp://ftp.ebi.ac.uk/pub/databases/genenames/new/tsv/locus_groups/protein-coding_gene.txt\") %>%\n",
    "  # selects only the columns of interest\n",
    "  select(ensembl_gene_id, symbol, name, gene_group, ccds_id) %>%\n",
    "  # remove the rows where the ccds_id column is NA\n",
    "  filter(!is.na(ccds_id)) %>%\n",
    "  # print to console\n",
    "  print()"
   ]
  },
  {
   "cell_type": "code",
   "execution_count": 5,
   "metadata": {},
   "outputs": [
    {
     "name": "stderr",
     "output_type": "stream",
     "text": [
      "\u001b[1mRows: \u001b[22m\u001b[34m63677\u001b[39m \u001b[1mColumns: \u001b[22m\u001b[34m15\u001b[39m\n",
      "\n",
      "\u001b[36m──\u001b[39m \u001b[1mColumn specification\u001b[22m \u001b[36m────────────────────────────────────────────────────────\u001b[39m\n",
      "\u001b[1mDelimiter:\u001b[22m \"\\t\"\n",
      "\u001b[31mchr\u001b[39m  (1): ENSEMBL gene\n",
      "\u001b[32mdbl\u001b[39m (14): CD34_shTSR2_RNA_1, CD34_shTSR2_RNA_2, CD34_shRPL5_RNA_1, CD34_shRP...\n",
      "\n",
      "\n",
      "\u001b[36mℹ\u001b[39m Use \u001b[30m\u001b[47m\u001b[30m\u001b[47m`spec()`\u001b[47m\u001b[30m\u001b[49m\u001b[39m to retrieve the full column specification for this data.\n",
      "\u001b[36mℹ\u001b[39m Specify the column types or set \u001b[30m\u001b[47m\u001b[30m\u001b[47m`show_col_types = FALSE`\u001b[47m\u001b[30m\u001b[49m\u001b[39m to quiet this message.\n",
      "\n"
     ]
    },
    {
     "name": "stdout",
     "output_type": "stream",
     "text": [
      "\u001b[90m# A tibble: 63,677 × 15\u001b[39m\n",
      "   ensembl_gene_id CD34_shTSR2_RNA_1 CD34_shTSR2_RNA_2 CD34_shRPL5_RNA_1\n",
      "   \u001b[3m\u001b[90m<chr>\u001b[39m\u001b[23m                       \u001b[3m\u001b[90m<dbl>\u001b[39m\u001b[23m             \u001b[3m\u001b[90m<dbl>\u001b[39m\u001b[23m             \u001b[3m\u001b[90m<dbl>\u001b[39m\u001b[23m\n",
      "\u001b[90m 1\u001b[39m ENSG00000000003                48                56                40\n",
      "\u001b[90m 2\u001b[39m ENSG00000000005                 0                 2                 0\n",
      "\u001b[90m 3\u001b[39m ENSG00000000419               880               744              \u001b[4m1\u001b[24m116\n",
      "\u001b[90m 4\u001b[39m ENSG00000000457               124               113               149\n",
      "\u001b[90m 5\u001b[39m ENSG00000000460               249               262               289\n",
      "\u001b[90m 6\u001b[39m ENSG00000000938                89                64               204\n",
      "\u001b[90m 7\u001b[39m ENSG00000000971               106                86               241\n",
      "\u001b[90m 8\u001b[39m ENSG00000001036               897               613              \u001b[4m1\u001b[24m487\n",
      "\u001b[90m 9\u001b[39m ENSG00000001084               965              \u001b[4m1\u001b[24m027              \u001b[4m1\u001b[24m036\n",
      "\u001b[90m10\u001b[39m ENSG00000001167               721               835               498\n",
      "\u001b[90m# … with 63,667 more rows, and 11 more variables: CD34_shRPL5_RNA_2 <dbl>,\u001b[39m\n",
      "\u001b[90m#   CD34_shRPL5_RPF_1 <dbl>, CD34_shRPL5_RPF_2 <dbl>, CD34_shRPS19_RNA_1 <dbl>,\u001b[39m\n",
      "\u001b[90m#   CD34_shRPS19_RNA_2 <dbl>, CD34_shRPS19_RPF_1 <dbl>,\u001b[39m\n",
      "\u001b[90m#   CD34_shRPS19_RPF_2 <dbl>, CD34_shLuc_RNA_1 <dbl>, CD34_shLuc_RNA_2 <dbl>,\u001b[39m\n",
      "\u001b[90m#   CD34_shLuc_RPF_1 <dbl>, CD34_shLuc_RPF_2 <dbl>\u001b[39m\n"
     ]
    }
   ],
   "source": [
    "# loads a tab separated sheet \n",
    "data <- read_tsv(\"ftp://ftp.ncbi.nlm.nih.gov/geo/series/GSE89nnn/GSE89183/suppl/GSE89183_Counts.txt.gz\") %>%\n",
    "  # chnages the olumn name to eliminate the space\n",
    "  rename(ensembl_gene_id = `ENSEMBL gene`) %>%\n",
    "  #print to console\n",
    "  print()"
   ]
  },
  {
   "cell_type": "markdown",
   "metadata": {},
   "source": [
    "## Problem 3\n",
    "\n",
    "**10 points**\n",
    "\n",
    "Using the code below:\n",
    "\n",
    "1. Convert both axes to `log10` instead of linear scales.\n",
    "2. Show axis tick labels as 10^0^, 10^1^, 10^2^,10^3^, 10^4^, 10^5^ for both axes.\n",
    "3. There are too many points overlapping in certain regions. Use a different\n",
    "`geom_` function to convey to your reader how many overlapping points are present\n",
    "in each region."
   ]
  },
  {
   "cell_type": "code",
   "execution_count": 32,
   "metadata": {},
   "outputs": [
    {
     "name": "stderr",
     "output_type": "stream",
     "text": [
      "Warning message:\n",
      "“Transformation introduced infinite values in continuous x-axis”\n",
      "Warning message:\n",
      "“Transformation introduced infinite values in continuous y-axis”\n"
     ]
    },
    {
     "data": {
      "image/png": "[encoded data removed]",
      "text/plain": [
       "plot without title"
      ]
     },
     "metadata": {
      "image/png": {
       "height": 420,
       "width": 420
      }
     },
     "output_type": "display_data"
    }
   ],
   "source": [
    "data %>%\n",
    "  select(CD34_shRPL5_RNA_1, CD34_shRPS19_RNA_1) %>%\n",
    "  ggplot(aes(x = CD34_shRPL5_RNA_1, y = CD34_shRPS19_RNA_1)) +\n",
    "  scale_x_continuous(trans = 'log10', breaks=c(10e0, 10e1, 10e2, 10e3, 10e4, 10e5), labels=c('10e0', '10e1', '10e2', '10e3', '10e4', '10e5')) +\n",
    "  scale_y_continuous(trans = 'log10', breaks=c(10e0, 10e1, 10e2, 10e3, 10e4, 10e5), labels=c('10e0', '10e1', '10e2', '10e3', '10e4', '10e5'))+\n",
    "  geom_point()\n"
   ]
  },
  {
   "cell_type": "markdown",
   "metadata": {},
   "source": [
    "**In problems 4 through 6, assign the result of your operation back to the `data`\n",
    "variable.**"
   ]
  },
  {
   "cell_type": "markdown",
   "metadata": {},
   "source": [
    "## Problem 4\n",
    "\n",
    "**10 points**\n",
    "\n",
    "Write a code cell to select the following columns from the `data` variable you created above and reassign back to `data`.\n",
    "\n",
    "Columns to select: `ensembl_gene_id`, columns that have either `RPL5`, `RPS19`, or `Luc` in their name.\n",
    "\n",
    "Instead of listing every column, use [`matches`](https://tidyselect.r-lib.org/reference/starts_with.html) and a succinct [regular expression](https://stringr.tidyverse.org/articles/regular-expressions.html) to select the above columns."
   ]
  },
  {
   "cell_type": "markdown",
   "metadata": {},
   "source": [
    "## Problem 5\n",
    "\n",
    "**10 points**\n",
    "\n",
    "Write a code cell to filter the result from Problem 4 to include only rows where each of the 12 numerical columns you selected has 50 counts or more  and reassign back to `data`.\n",
    "This is a simple way to avoid genes that have very low counts.\n",
    "\n",
    "You might be tempted to do this step separately for each of the 12 columns, but instead use the `across` function you learned above or the `pivot_longer` function from the class (either way is fine)."
   ]
  },
  {
   "cell_type": "markdown",
   "metadata": {},
   "source": [
    "## Problem 6\n",
    "\n",
    "**10 points**\n",
    "\n",
    "Write a code cell to divide each of the 12 numerical columns by the\n",
    "corresponding median value for each column\n",
    "and reassign back to `data`. This median normalization is typically done in\n",
    "high-throughput experiments after filtering\n",
    "to normalize for sample-to-sample difference in read depth.\n",
    "\n",
    "Again, you can write lot less code if you use the `mutate` and `across` function\n",
    "you learned above.\n"
   ]
  },
  {
   "cell_type": "markdown",
   "metadata": {},
   "source": [
    "## Problem 7\n",
    "\n",
    "**10 points**\n",
    "\n",
    "After we do the above filtering and median-normalization, let us calculate\n",
    "translation efficiency as the average ratio of the RPF and RNA reads for each\n",
    "treatment condition. Then we calculate how this translation efficiency changes\n",
    "between target (`rpl5` and `rps19`) and control (`luc`) shRNAs.\n",
    "\n",
    "The code implementing the above steps is shown below, but it has a few\n",
    "errors. Correct them.\n"
   ]
  },
  {
   "cell_type": "code",
   "execution_count": 5,
   "metadata": {},
   "outputs": [
    {
     "ename": "ERROR",
     "evalue": "Error in parse(text = x, srcfile = src): <text>:12:0: unexpected end of input\n10:          lfc_te_rps19 == log2(mean_rps19_te / mean_shluc_te)) %>%\n11:   print()\n   ^\n",
     "output_type": "error",
     "traceback": [
      "Error in parse(text = x, srcfile = src): <text>:12:0: unexpected end of input\n10:          lfc_te_rps19 == log2(mean_rps19_te / mean_shluc_te)) %>%\n11:   print()\n   ^\nTraceback:\n"
     ]
    }
   ],
   "source": [
    "lfc <- data %>%\n",
    "  mutate(mean_rpl5_te = ((CD34_shRPL5_RPF_1 + CD34_shRPL5_RPF_2) /\n",
    "                            (CD34_shRPL5_RNA_1 + CD34_shRPL5_RNA_2)) %>%\n",
    "  mutate(mean_rps19_te = ((CD34_shRPS19_RPF_1 + CD34_shRPS19_RPF_2) /\n",
    "                            (CD34_shRPS19_RNA_1 + CD34_shRPS19_RNA_2)) %>%\n",
    "  mutate(mean_shluc_te = ((CD34_shLuc_RPF_1 + CD34_shLuc_RPF_2) /\n",
    "                            (CD34_shLuc_RNA_1 + CD34_shLuc_RNA2)) %>%\n",
    "  select(ensembl_gene_id, mean_rpl5_te, mean_rps19_te) %>%\n",
    "  mutate(lfc_te_rpl5 == log2(mean_rpl5_te / mean_shluc_te),\n",
    "         lfc_te_rps19 == log2(mean_rps19_te / mean_shluc_te)) %>%\n",
    "  print()"
   ]
  },
  {
   "cell_type": "markdown",
   "metadata": {},
   "source": [
    "## Problem 8\n",
    "\n",
    "**10 points**\n",
    "\n",
    "Write code that will create a new dataframe called `mean_lfc` from `lfc`\n",
    "containing a new column called `avg_lfc`.\n",
    "`avg_lfc` should be the average of the log2 fold-change in TE (`lfc_te`) upon\n",
    "knockdown of RPL5 and RPS19.\n",
    "\n",
    "Then select only the gene id column and the new column that you just created\n",
    "(this will be your new dataframe `mean_lfc`).\n"
   ]
  },
  {
   "cell_type": "markdown",
   "metadata": {},
   "source": [
    "\n",
    "## Problem 9\n",
    "\n",
    "**10 points**\n",
    "\n",
    "Write code to join the `mean_lfc` dataframe with the `annotations` dataframe created\n",
    "at the top of the document and assign back to `mean_lfc`.\n"
   ]
  },
  {
   "cell_type": "markdown",
   "metadata": {},
   "source": [
    "## Problem 10\n",
    "\n",
    "**10 points**\n",
    "\n",
    "1. Write code to select only the bottom 10 genes with the lowest `avg_lfc` and display the gene `symbol`, gene `name` and `avg_lfc` for these genes.\n",
    "2. Create a figure using `ggplot2` to visualize these results.\n",
    "\n",
    "Write a few sentences to justify the choices you made when creating your figure."
   ]
  }
 ],
 "metadata": {
  "interpreter": {
   "hash": "20b806d4119a16f99164bba4792c78ffcd4bd5c34ada550ca95cde3929bf6a1c"
  },
  "kernelspec": {
   "display_name": "R",
   "language": "R",
   "name": "ir"
  },
  "language_info": {
   "codemirror_mode": "r",
   "file_extension": ".r",
   "mimetype": "text/x-r-source",
   "name": "R",
   "pygments_lexer": "r",
   "version": "4.1.1"
  },
  "orig_nbformat": 4
 },
 "nbformat": 4,
 "nbformat_minor": 2
}
